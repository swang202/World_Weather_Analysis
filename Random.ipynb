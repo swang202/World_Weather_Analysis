{
 "cells": [
  {
   "cell_type": "code",
   "execution_count": 2,
   "id": "64d87622-daab-4391-8374-adbfcd5629f6",
   "metadata": {},
   "outputs": [],
   "source": [
    "import random"
   ]
  },
  {
   "cell_type": "code",
   "execution_count": 5,
   "id": "d2efb053-7f51-4b66-9c0e-f53cc828c261",
   "metadata": {},
   "outputs": [
    {
     "data": {
      "text/plain": [
       "0.27278533922247716"
      ]
     },
     "execution_count": 5,
     "metadata": {},
     "output_type": "execute_result"
    }
   ],
   "source": [
    "random.random()"
   ]
  },
  {
   "cell_type": "code",
   "execution_count": 9,
   "id": "fc767027-f2c3-4a2d-8a7f-787627286791",
   "metadata": {},
   "outputs": [
    {
     "data": {
      "text/plain": [
       "-10"
      ]
     },
     "execution_count": 9,
     "metadata": {},
     "output_type": "execute_result"
    }
   ],
   "source": [
    "random.randint(-10,9)"
   ]
  },
  {
   "cell_type": "code",
   "execution_count": 18,
   "id": "e536c847-c9f9-418a-a85a-059995a948c3",
   "metadata": {},
   "outputs": [
    {
     "data": {
      "text/plain": [
       "-3"
      ]
     },
     "execution_count": 18,
     "metadata": {},
     "output_type": "execute_result"
    }
   ],
   "source": [
    "random.randrange(-10,9,step=1)"
   ]
  },
  {
   "cell_type": "code",
   "execution_count": 31,
   "id": "4279da08-f022-4161-a9c9-324aeee64a70",
   "metadata": {},
   "outputs": [
    {
     "data": {
      "text/plain": [
       "5"
      ]
     },
     "execution_count": 31,
     "metadata": {},
     "output_type": "execute_result"
    }
   ],
   "source": [
    "random.randrange(-10,10,step=5)"
   ]
  },
  {
   "cell_type": "code",
   "execution_count": 20,
   "id": "6996ff67-e504-4d17-ba0c-70141a352cb1",
   "metadata": {},
   "outputs": [
    {
     "data": {
      "text/plain": [
       "3.834929515389218"
      ]
     },
     "execution_count": 20,
     "metadata": {},
     "output_type": "execute_result"
    }
   ],
   "source": [
    "random.uniform(2,6)"
   ]
  },
  {
   "cell_type": "code",
   "execution_count": 32,
   "id": "941e77fd-ec20-4aea-ba03-f7c1b9dabd6e",
   "metadata": {},
   "outputs": [],
   "source": [
    "# Import the NumPy module.\n",
    "import numpy as np"
   ]
  },
  {
   "cell_type": "code",
   "execution_count": 33,
   "id": "43c853bb-42e5-40f5-a7fc-98534064fa30",
   "metadata": {},
   "outputs": [
    {
     "data": {
      "text/plain": [
       "array([ 66.08331003,   2.37147759,  71.18294521,  10.61668384,\n",
       "       -54.33386451,  54.54782524, -78.99268455, -71.5561104 ,\n",
       "       -54.27522522, -34.97363358,  58.67683461,  23.97375356,\n",
       "         8.09608213,   6.94392891,  -7.61152205,   2.36290095,\n",
       "        57.0158678 , -83.86810155,  16.80897717,  71.37658367,\n",
       "       -11.68173468,  75.78544695, -14.73395343, -34.72206259,\n",
       "        74.56127477,  53.967761  ,  31.53394101, -51.28773134,\n",
       "        39.66940294, -45.1238001 ,  29.52684997, -81.77196049,\n",
       "        50.61134314,  29.06635688, -31.14814071,  59.98591986,\n",
       "        50.50057439,   8.22513313,  70.11148292,   8.75148446,\n",
       "       -20.80792149,  58.51995524, -67.13652629,  35.42083586,\n",
       "        43.7627087 ,  79.56018021, -10.88066381, -63.30472536,\n",
       "       -11.59782985, -42.13662686])"
      ]
     },
     "execution_count": 33,
     "metadata": {},
     "output_type": "execute_result"
    }
   ],
   "source": [
    "np.random.uniform(-90.000, 90.000, size=50)"
   ]
  },
  {
   "cell_type": "code",
   "execution_count": 34,
   "id": "11642f9a-7de7-4a62-8135-6373af9e3467",
   "metadata": {},
   "outputs": [],
   "source": [
    "# Import timeit.\n",
    "import timeit"
   ]
  },
  {
   "cell_type": "code",
   "execution_count": 36,
   "id": "31397212-2927-4de6-a159-d45b79211890",
   "metadata": {},
   "outputs": [
    {
     "name": "stdout",
     "output_type": "stream",
     "text": [
      "14.8 µs ± 696 ns per loop (mean ± std. dev. of 7 runs, 100000 loops each)\n"
     ]
    }
   ],
   "source": [
    "%timeit np.random.uniform(-90.000, 90.000, size=1500)"
   ]
  },
  {
   "cell_type": "code",
   "execution_count": 37,
   "id": "927d57a0-5afa-4bc1-b16c-5979883dafb9",
   "metadata": {},
   "outputs": [
    {
     "name": "stdout",
     "output_type": "stream",
     "text": [
      "1.36 ms ± 57.9 µs per loop (mean ± std. dev. of 7 runs, 1000 loops each)\n"
     ]
    }
   ],
   "source": [
    "def latitudes(size):\n",
    "    latitudes = []\n",
    "    x = 0\n",
    "    while x < (size):\n",
    "        random_lat = random.randint(-90, 90) + random.random()\n",
    "        latitudes.append(random_lat)\n",
    "        x += 1\n",
    "    return latitudes\n",
    "# Call the function with 1500.\n",
    "%timeit latitudes(1500)"
   ]
  },
  {
   "cell_type": "code",
   "execution_count": 38,
   "id": "1694549e-875a-42e6-8e87-77331e7549b4",
   "metadata": {},
   "outputs": [],
   "source": [
    "# Import the dependencies.\n",
    "import pandas as pd\n",
    "import matplotlib.pyplot as plt\n",
    "import numpy as np"
   ]
  },
  {
   "cell_type": "code",
   "execution_count": null,
   "id": "d9bd36ea-eb1b-4bd5-a470-49fd91f917de",
   "metadata": {},
   "outputs": [],
   "source": []
  }
 ],
 "metadata": {
  "kernelspec": {
   "display_name": "PythonData",
   "language": "python",
   "name": "pythondata"
  },
  "language_info": {
   "codemirror_mode": {
    "name": "ipython",
    "version": 3
   },
   "file_extension": ".py",
   "mimetype": "text/x-python",
   "name": "python",
   "nbconvert_exporter": "python",
   "pygments_lexer": "ipython3",
   "version": "3.8.8"
  }
 },
 "nbformat": 4,
 "nbformat_minor": 5
}
